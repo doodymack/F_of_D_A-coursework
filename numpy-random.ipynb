{
 "cells": [
  {
   "cell_type": "markdown",
   "id": "bc5bf275-6fca-4a92-a95d-66e51b4562d9",
   "metadata": {},
   "source": [
    "## The Numpy Random Packge\n",
    "\n",
    "Official Documentation https://numpy.org/doc/stable/reference/random/index.html\n",
    "    Tutorial: https://www.datacamp.com/community/tutorials/numpy-random\n",
    "\n",
    "***\n"
   ]
  },
  {
   "cell_type": "code",
   "execution_count": 1,
   "id": "1f367d2c-07f4-4a62-b00c-4c161c32b3af",
   "metadata": {},
   "outputs": [],
   "source": [
    "# efficient numerical arrays\n",
    "import numpy as np\n",
    "# plotting\n",
    "import matplotlib.pyplot as plt"
   ]
  },
  {
   "cell_type": "markdown",
   "id": "cd2b0099-889a-4b36-8926-cc91f8f44e88",
   "metadata": {},
   "source": [
    "## how to adjust figure size in pyplot\n",
    "\n",
    "https://stackoverflow.com/questions/36367986/how-to-make-inline-plots-in-jupyter-notebook-larger"
   ]
  },
  {
   "cell_type": "code",
   "execution_count": 2,
   "id": "cf4d4d51-f0d5-4aee-a3ce-ee4e7d78f9ff",
   "metadata": {},
   "outputs": [],
   "source": [
    "# change the default figure size\n",
    "plt.rcParams['figure.figsize'] = [10, 5]\n",
    "#customizing styles in matplotlib\n",
    "plt.style.use('fivethirtyeight')"
   ]
  },
  {
   "cell_type": "code",
   "execution_count": null,
   "id": "d747ff57-89bd-4777-afa4-d50445d4deae",
   "metadata": {},
   "outputs": [],
   "source": []
  },
  {
   "cell_type": "markdown",
   "id": "480b6c0b-2d75-4d41-a866-b8cc353abce7",
   "metadata": {},
   "source": [
    "## To list all available styles, use:\n",
    "print(plt.style.available)"
   ]
  },
  {
   "cell_type": "markdown",
   "id": "103497fd-be55-40a6-a2ff-858140ac2c0b",
   "metadata": {},
   "source": [
    "print(plt.style.available)"
   ]
  },
  {
   "cell_type": "markdown",
   "id": "67d80275-bc45-4911-9095-1770e156cc17",
   "metadata": {},
   "source": [
    "\n",
    "## numpy.random.normal\n",
    "\n",
    "https://numpy.org/doc/stable/reference/random/generated/numpy.random.normal.html?highlight=normal#numpy.random.normal\n"
   ]
  },
  {
   "cell_type": "code",
   "execution_count": null,
   "id": "9446ab73-28ad-4b67-943f-0e599e4bfe97",
   "metadata": {},
   "outputs": [],
   "source": [
    "mu, sigma = 0, 0.1 # mean and standard deviation\n",
    "s = np.random.normal(mu, sigma, 1000)"
   ]
  },
  {
   "cell_type": "code",
   "execution_count": null,
   "id": "4bbec170-c97b-4d46-bf0c-a2472a3c9189",
   "metadata": {},
   "outputs": [],
   "source": []
  },
  {
   "cell_type": "code",
   "execution_count": null,
   "id": "06b32e0f-1338-4772-9a46-d18e9f6b2d00",
   "metadata": {
    "tags": []
   },
   "outputs": [],
   "source": [
    "## can examine dataset 's' just execute.  Can also right click and enable scrolling\n",
    "## can select e.g. 1st 10 data in the list using square brackets and colon\n",
    "s [:10]"
   ]
  },
  {
   "cell_type": "code",
   "execution_count": null,
   "id": "00649baa-99bb-407d-b14a-6c1dcc837499",
   "metadata": {},
   "outputs": [],
   "source": []
  },
  {
   "cell_type": "code",
   "execution_count": null,
   "id": "7a183b33-02ad-4f55-a987-8b495dfaf6ef",
   "metadata": {},
   "outputs": [],
   "source": [
    "abs(mu - np.mean(s))"
   ]
  },
  {
   "cell_type": "code",
   "execution_count": null,
   "id": "87880267-9aa4-44bc-b14b-eecfe4726386",
   "metadata": {},
   "outputs": [],
   "source": []
  },
  {
   "cell_type": "code",
   "execution_count": null,
   "id": "d962da0e-312d-4cc4-af01-f4e06d634b79",
   "metadata": {},
   "outputs": [],
   "source": [
    "abs(sigma - np.std(s, ddof=1))"
   ]
  },
  {
   "cell_type": "code",
   "execution_count": null,
   "id": "c5794a77-c9ba-43fb-a444-9ad4275464ba",
   "metadata": {},
   "outputs": [],
   "source": []
  },
  {
   "cell_type": "markdown",
   "id": "6a694053-d5ed-48a9-8e96-2320ec1cf0e4",
   "metadata": {},
   "source": [
    "## Use of specific code in script for styles: \n",
    "e.g.: plt.plot(bins,f,**linewidth=2, color='r'**) <br>\n",
    "better off not having defined parameters in code if already using styletype code early in script"
   ]
  },
  {
   "cell_type": "code",
   "execution_count": null,
   "id": "fe4b4c20-46f2-4ab3-a722-869eb829ec91",
   "metadata": {},
   "outputs": [],
   "source": [
    "count, bins, ignored = plt.hist(s, 30, density=True)\n",
    "f = 1/(sigma*np.sqrt(2* np.pi))* np.exp(-(bins - mu)**2/(2*sigma**2))\n",
    "plt.plot(bins,f)\n",
    "plt.show()"
   ]
  },
  {
   "cell_type": "code",
   "execution_count": null,
   "id": "27e09a01-323e-4b01-92a7-7f4e4655cf35",
   "metadata": {},
   "outputs": [],
   "source": []
  },
  {
   "cell_type": "markdown",
   "id": "089f6e91-b67d-482a-b264-dfed450eba62",
   "metadata": {},
   "source": [
    "##numpy.random.normal\n",
    "\n",
    "https://numpy.org/doc/stable/reference/random/generated/numpy.random.normal.html\n",
    "****\n"
   ]
  },
  {
   "cell_type": "markdown",
   "id": "af343418-a6ed-40a5-b070-cf3de07a59f0",
   "metadata": {},
   "source": [
    "## References\n",
    "- https://www.datacamp.com/community/tutorials/numpy-random\n",
    "\n"
   ]
  },
  {
   "cell_type": "markdown",
   "id": "3ca31171-a813-4c9b-929b-1989bd852a32",
   "metadata": {},
   "source": [
    "****\n",
    "## end\n"
   ]
  }
 ],
 "metadata": {
  "kernelspec": {
   "display_name": "Python 3",
   "language": "python",
   "name": "python3"
  },
  "language_info": {
   "codemirror_mode": {
    "name": "ipython",
    "version": 3
   },
   "file_extension": ".py",
   "mimetype": "text/x-python",
   "name": "python",
   "nbconvert_exporter": "python",
   "pygments_lexer": "ipython3",
   "version": "3.8.8"
  }
 },
 "nbformat": 4,
 "nbformat_minor": 5
}
